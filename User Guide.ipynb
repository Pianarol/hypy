{
 "cells": [
  {
   "cell_type": "markdown",
   "metadata": {},
   "source": [
    "# User guide for Hypy\n",
    "## and python in general\n",
    "\n",
    "In this user guide, you'll learn how to use Hypy in the notebook Jupyter, but also some basic functions of the language Python.\n",
    "To have more details about the project and how to install the notebook and hypy, a rapport is available here : https://github.com/Pianarol/hypy (In French, but with some illustrations).\n",
    "\n",
    "The goal is not to become an expert in Python, but to see fundamental gear to go along with the use of Hypy. \n",
    "\n",
    "The guide will be divided in brief chapters.\n",
    "\n",
    "### Table of contents : \n",
    "1. Import\n",
    "2. Load Data\n",
    "\n",
    "\n"
   ]
  },
  {
   "cell_type": "markdown",
   "metadata": {
    "collapsed": true
   },
   "source": [
    "## 1. Import\n",
    "\n",
    "If you know you'll have to use packages in your work, the convention is to import them at the start of your code. Here, you'll use Hypy for sure, but also basic package, such as Matplotlib, in order to make plot or numpy, useful to work with array or matrix. The suggestion is to use an entire cell to import them. With that, you can always edit it and add new packages. Be sure to always run the cell. You can either click the according button or use \"maj + enter\".\n",
    "In the cell below, the imported packages are : Hypy, numpy, math and matplotlib. There is also a convention to rename the package to ease their use. For exemple hypy as hp. "
   ]
  },
  {
   "cell_type": "code",
   "execution_count": 1,
   "metadata": {
    "collapsed": true
   },
   "outputs": [],
   "source": [
    "import hypy as hp\n",
    "import math\n",
    "import numpy as np\n",
    "import matplotlib.pyplot as plt"
   ]
  },
  {
   "cell_type": "markdown",
   "metadata": {},
   "source": [
    "After it's done, you can work with those packages. The guide will show how to do so. If one of your import isn't correct, you will see an error message as demonstrate below. It means that either the name of your package is wrong, or that the package doesn't exists."
   ]
  },
  {
   "cell_type": "code",
   "execution_count": 2,
   "metadata": {},
   "outputs": [
    {
     "ename": "ModuleNotFoundError",
     "evalue": "No module named 'maths'",
     "output_type": "error",
     "traceback": [
      "\u001b[1;31m---------------------------------------------------------------------------\u001b[0m",
      "\u001b[1;31mModuleNotFoundError\u001b[0m                       Traceback (most recent call last)",
      "\u001b[1;32m<ipython-input-2-5160a76618c6>\u001b[0m in \u001b[0;36m<module>\u001b[1;34m()\u001b[0m\n\u001b[1;32m----> 1\u001b[1;33m \u001b[1;32mimport\u001b[0m \u001b[0mmaths\u001b[0m\u001b[1;33m\u001b[0m\u001b[0m\n\u001b[0m",
      "\u001b[1;31mModuleNotFoundError\u001b[0m: No module named 'maths'"
     ]
    }
   ],
   "source": [
    "import maths"
   ]
  },
  {
   "cell_type": "markdown",
   "metadata": {},
   "source": [
    "It's possible to make the correction directly in the cell and to run it again. It won't be shown here, other wise it will erase the error. "
   ]
  },
  {
   "cell_type": "markdown",
   "metadata": {
    "collapsed": true
   },
   "source": [
    "## 2. Load Data\n",
    "\n",
    "Probably the first thing to do after importing your package is to load your data. \n",
    "Hypy possesses a function to load text file containing to columns of data, without any heading or numbering. Below, you see an exemple of such a file : "
   ]
  },
  {
   "cell_type": "code",
   "execution_count": 7,
   "metadata": {},
   "outputs": [
    {
     "data": {
      "image/png": "[encoded data removed]",
      "text/plain": [
       "<IPython.core.display.Image object>"
      ]
     },
     "execution_count": 7,
     "metadata": {},
     "output_type": "execute_result"
    }
   ],
   "source": [
    "from IPython.display import Image\n",
    "Image(filename = 'data.png')"
   ]
  },
  {
   "cell_type": "markdown",
   "metadata": {},
   "source": [
    "If you have a file like that (the size of the columns have to be equal, but can be \"infinite\"), you can use the function\n",
    "load from hypy to assign variables. The first column is the time and the second one is the drawdown, the variables choosen are often t and s, but this is up to you. To use load, you have to type hp.load('name of the file'). "
   ]
  },
  {
   "cell_type": "code",
   "execution_count": null,
   "metadata": {
    "collapsed": true
   },
   "outputs": [],
   "source": []
  }
 ],
 "metadata": {
  "kernelspec": {
   "display_name": "Python 3",
   "language": "python",
   "name": "python3"
  },
  "language_info": {
   "codemirror_mode": {
    "name": "ipython",
    "version": 3
   },
   "file_extension": ".py",
   "mimetype": "text/x-python",
   "name": "python",
   "nbconvert_exporter": "python",
   "pygments_lexer": "ipython3",
   "version": "3.6.1"
  }
 },
 "nbformat": 4,
 "nbformat_minor": 2
}
